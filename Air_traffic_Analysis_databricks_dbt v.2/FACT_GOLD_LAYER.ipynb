{
 "cells": [
  {
   "cell_type": "code",
   "execution_count": 0,
   "metadata": {
    "application/vnd.databricks.v1+cell": {
     "cellMetadata": {
      "byteLimit": 2048000,
      "rowLimit": 10000
     },
     "inputWidgets": {},
     "nuid": "f3fb0a1a-ef4b-491e-b2f2-788eecbb0241",
     "showTitle": false,
     "tableResultSettingsMap": {},
     "title": ""
    }
   },
   "outputs": [],
   "source": [
    "catalog = \"workspace\"\n",
    "\n",
    "\n",
    "source_object = \"silver_bookings\"\n",
    "\n",
    "source_schema = \"silver\"\n",
    "\n",
    "cdc_column = \"modified_date\"\n",
    "\n",
    "backdated_refresh = \"\"\n",
    "\n",
    "fact_table = f\"{catalog}.{source_schema}.{source_object}\"\n",
    "\n",
    "target_schema = \"gold\"\n",
    "\n",
    "target_object = \"FactBookings\"\n",
    "\n",
    "fact_key_cols = [\"DimPassengersKey\",\"DimFlightsKey\",\"DimAirportsKey\",\"booking_date\"]\n"
   ]
  },
  {
   "cell_type": "code",
   "execution_count": 0,
   "metadata": {
    "application/vnd.databricks.v1+cell": {
     "cellMetadata": {
      "byteLimit": 2048000,
      "rowLimit": 10000
     },
     "inputWidgets": {},
     "nuid": "bb36937e-e596-4bd0-b071-8c2e02a4d3f5",
     "showTitle": false,
     "tableResultSettingsMap": {},
     "title": ""
    }
   },
   "outputs": [],
   "source": [
    "dimensions = [\n",
    "\n",
    "    {\n",
    "\n",
    "        \"table\": f\"{catalog}.{target_schema}.DIMPassengers\",\n",
    "        \"alias\":\"DIMPassenger\",\n",
    "        \"join_keys\": [(\"passenger_id\",\"passenger_id\")] #[fact,dim' ids]\n",
    "    },\n",
    "    {\n",
    "\n",
    "        \"table\": f\"{catalog}.{target_schema}.DIMFlights\",\n",
    "        \"alias\":\"DIMFlight\",\n",
    "        \"join_keys\":[(\"flight_id\",\"flight_id\")] #[fact,dim' ids]\n",
    "    },\n",
    "    {\n",
    "\n",
    "        \"table\": f\"{catalog}.{target_schema}.DIMAirports\",\n",
    "        \"alias\":\"DIMAirport\",\n",
    "        \"join_keys\":[(\"airport_id\",\"airport_id\")] #[fact,dim' ids]\n",
    "    }\n",
    "\n",
    "\n",
    "\n",
    "]\n",
    "\n",
    "fact_columns = [\"amount\",\"booking_date\",\"modified_date\"]"
   ]
  },
  {
   "cell_type": "markdown",
   "metadata": {
    "application/vnd.databricks.v1+cell": {
     "cellMetadata": {
      "byteLimit": 2048000,
      "rowLimit": 10000
     },
     "inputWidgets": {},
     "nuid": "7780829e-4da4-4c63-8cb9-b5505f912f1b",
     "showTitle": false,
     "tableResultSettingsMap": {},
     "title": ""
    }
   },
   "source": [
    "Last load"
   ]
  },
  {
   "cell_type": "code",
   "execution_count": 0,
   "metadata": {
    "application/vnd.databricks.v1+cell": {
     "cellMetadata": {
      "byteLimit": 2048000,
      "rowLimit": 10000
     },
     "inputWidgets": {},
     "nuid": "3d0935d1-2f67-401f-8248-e285ce30db82",
     "showTitle": false,
     "tableResultSettingsMap": {},
     "title": ""
    }
   },
   "outputs": [],
   "source": [
    "if len(backdated_refresh) == 0:\n",
    "    if spark.catalog.tableExists(f\"workspace.{target_schema}.{target_object}\"):\n",
    "        last_load = spark.sql(f\"Select max({cdc_col}) from workspace.{target_schema}.{target_object}\").collect[0][0]\n",
    "    else:\n",
    "        last_load = \"1900-01-01 00:00:00\"\n",
    "else: \n",
    "    last_load = backdated_refresh "
   ]
  },
  {
   "cell_type": "markdown",
   "metadata": {
    "application/vnd.databricks.v1+cell": {
     "cellMetadata": {
      "byteLimit": 2048000,
      "rowLimit": 10000
     },
     "inputWidgets": {},
     "nuid": "32a96f63-f617-4f62-b65d-91d6131498da",
     "showTitle": false,
     "tableResultSettingsMap": {},
     "title": ""
    }
   },
   "source": [
    "Dynamic Fact Table"
   ]
  },
  {
   "cell_type": "code",
   "execution_count": 0,
   "metadata": {
    "application/vnd.databricks.v1+cell": {
     "cellMetadata": {
      "byteLimit": 2048000,
      "rowLimit": 10000
     },
     "inputWidgets": {},
     "nuid": "5c0d4094-500a-4b14-8cf1-b61b47c141db",
     "showTitle": false,
     "tableResultSettingsMap": {},
     "title": ""
    }
   },
   "outputs": [],
   "source": [
    "def generate_fact_query_incremental(fact_table,dimensions,fact_columns,cdc_column):\n",
    "    fact_alias = \"f\"\n",
    "\n",
    "    #Base columns to select\n",
    "    select_cols = [f\"{fact_alias}.{col}\" for col in fact_columns]\n",
    "\n",
    "    #Join columns\n",
    "    join_cols = []\n",
    "    for dim in dimensions:\n",
    "        table_full = dim[\"table\"]\n",
    "        alias = dim[\"alias\"]\n",
    "        table_name = table_full.split(\".\")[-1]\n",
    "        surrogate_key = f\"{alias}.{table_name}Key\"\n",
    "        select_cols.append(surrogate_key)\n",
    "\n",
    "        on_conditions = [\n",
    "            f\"{fact_alias}.{fk} = {alias}.{dk}\"\n",
    "            for dk,fk in dim[\"join_keys\"]\n",
    "        \n",
    "        ]\n",
    "        join_clause = f\"LEFT JOIN {table_full} {alias} ON \"+\" AND \".join(on_conditions)\n",
    "        join_cols.append(join_clause)\n",
    "    \n",
    "    select_clause = \", \".join(select_cols)\n",
    "    joins = \"\\n\".join(join_cols)\n",
    "\n",
    "    where_clause = f\"{fact_alias}.{cdc_column} >= DATE('{last_load}')\"\n",
    "   \n",
    "\n",
    "\n",
    "    query = f\"\"\"\n",
    "\n",
    "SELECT\n",
    "    {select_clause}\n",
    "FROM {fact_table} {fact_alias}\n",
    "{joins}\n",
    "\n",
    "WHERE {where_clause}\n",
    "\"\"\".strip()\n",
    "\n",
    "    return query"
   ]
  },
  {
   "cell_type": "code",
   "execution_count": 0,
   "metadata": {
    "application/vnd.databricks.v1+cell": {
     "cellMetadata": {
      "byteLimit": 2048000,
      "rowLimit": 10000
     },
     "inputWidgets": {},
     "nuid": "9999d520-319f-4752-9bdb-2f3c2813f3bc",
     "showTitle": false,
     "tableResultSettingsMap": {},
     "title": ""
    }
   },
   "outputs": [],
   "source": [
    "query = generate_fact_query_incremental(fact_table,dimensions,fact_columns,cdc_column)\n"
   ]
  },
  {
   "cell_type": "code",
   "execution_count": 0,
   "metadata": {
    "application/vnd.databricks.v1+cell": {
     "cellMetadata": {
      "byteLimit": 2048000,
      "rowLimit": 10000
     },
     "inputWidgets": {},
     "nuid": "611715d6-a602-44a1-9816-6908c3a6a0a5",
     "showTitle": false,
     "tableResultSettingsMap": {},
     "title": ""
    }
   },
   "outputs": [],
   "source": [
    "print(query)"
   ]
  },
  {
   "cell_type": "code",
   "execution_count": 0,
   "metadata": {
    "application/vnd.databricks.v1+cell": {
     "cellMetadata": {
      "byteLimit": 2048000,
      "rowLimit": 10000
     },
     "inputWidgets": {},
     "nuid": "37bed023-0531-41da-86e6-f225644c2a39",
     "showTitle": false,
     "tableResultSettingsMap": {},
     "title": ""
    }
   },
   "outputs": [],
   "source": [
    "df_fact = spark.sql(query)"
   ]
  },
  {
   "cell_type": "code",
   "execution_count": 0,
   "metadata": {
    "application/vnd.databricks.v1+cell": {
     "cellMetadata": {
      "byteLimit": 2048000,
      "rowLimit": 10000
     },
     "inputWidgets": {},
     "nuid": "bd4f3e55-bb28-484d-a7a0-d8230ff8e1ea",
     "showTitle": false,
     "tableResultSettingsMap": {},
     "title": ""
    }
   },
   "outputs": [],
   "source": [
    "df_fact.display()"
   ]
  },
  {
   "cell_type": "code",
   "execution_count": 0,
   "metadata": {
    "application/vnd.databricks.v1+cell": {
     "cellMetadata": {
      "byteLimit": 2048000,
      "rowLimit": 10000
     },
     "inputWidgets": {},
     "nuid": "c82a739a-9f8e-4a39-a8a3-951ec21cbe55",
     "showTitle": false,
     "tableResultSettingsMap": {},
     "title": ""
    }
   },
   "outputs": [],
   "source": [
    "from delta.tables import DeltaTable\n",
    "\n"
   ]
  },
  {
   "cell_type": "code",
   "execution_count": 0,
   "metadata": {
    "application/vnd.databricks.v1+cell": {
     "cellMetadata": {
      "byteLimit": 2048000,
      "rowLimit": 10000
     },
     "inputWidgets": {},
     "nuid": "e9976a23-75c3-431e-9f9b-5f7c742f6fbe",
     "showTitle": false,
     "tableResultSettingsMap": {},
     "title": ""
    }
   },
   "outputs": [],
   "source": [
    "fact_key_cols_str = \"AND\" .join([f\"src.{col} = trg.{col}\" for col in fact_key_cols])\n"
   ]
  },
  {
   "cell_type": "code",
   "execution_count": 0,
   "metadata": {
    "application/vnd.databricks.v1+cell": {
     "cellMetadata": {
      "byteLimit": 2048000,
      "rowLimit": 10000
     },
     "inputWidgets": {},
     "nuid": "726f8e49-ce3b-44a8-8183-162bce3ad12c",
     "showTitle": false,
     "tableResultSettingsMap": {},
     "title": ""
    }
   },
   "outputs": [],
   "source": [
    "if spark.catalog.tableExists(f\"{catalog}.{target_schema}.{target_object}\"):\n",
    "    dlt_obj = DeltaTable.forName(spark, f\"{catalog}.{target_schema}.{target_object}\")\n",
    "    dlt_obj.alias(\"trg\").merge(df_fact.alias(\"src\"), fact_cols_str)\\\n",
    "    .whenMatchedUpdateAll(condition=f\"src.{cdc_column} >= trg.{cdc_column}\")\\\n",
    "    .whenNotMatchedInsertAll()\\\n",
    "    .execute()\n",
    "else:\n",
    "    df_fact.write.format(\"delta\")\\\n",
    "    .mode(\"append\")\\\n",
    "    .saveAsTable(f\"{catalog}.{target_schema}.{target_object}\")"
   ]
  },
  {
   "cell_type": "code",
   "execution_count": 0,
   "metadata": {
    "application/vnd.databricks.v1+cell": {
     "cellMetadata": {
      "byteLimit": 2048000,
      "implicitDf": true,
      "rowLimit": 10000
     },
     "inputWidgets": {},
     "nuid": "073c727c-bc03-4892-82ed-36b81a43dcc0",
     "showTitle": false,
     "tableResultSettingsMap": {},
     "title": ""
    }
   },
   "outputs": [],
   "source": [
    "%sql\n",
    "SELECT * FROM workspace.gold.factbookings;"
   ]
  },
  {
   "cell_type": "code",
   "execution_count": 0,
   "metadata": {
    "application/vnd.databricks.v1+cell": {
     "cellMetadata": {},
     "inputWidgets": {},
     "nuid": "0ead42f5-b11f-40d7-a1b2-1a0b179895a1",
     "showTitle": false,
     "tableResultSettingsMap": {},
     "title": ""
    }
   },
   "outputs": [],
   "source": []
  }
 ],
 "metadata": {
  "application/vnd.databricks.v1+notebook": {
   "computePreferences": null,
   "dashboards": [],
   "environmentMetadata": {
    "base_environment": "",
    "environment_version": "2"
   },
   "inputWidgetPreferences": null,
   "language": "python",
   "notebookMetadata": {
    "mostRecentlyExecutedCommandWithImplicitDF": {
     "commandId": 4703571229248493,
     "dataframes": [
      "_sqldf"
     ]
    },
    "pythonIndentUnit": 4
   },
   "notebookName": "FACT_GOLD_LAYER",
   "widgets": {}
  },
  "language_info": {
   "name": "python"
  }
 },
 "nbformat": 4,
 "nbformat_minor": 0
}
